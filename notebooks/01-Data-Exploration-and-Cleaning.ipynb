{
 "cells": [
  {
   "cell_type": "code",
   "execution_count": 1,
   "id": "263768e7-949e-468f-8a26-2da9cbf9b56e",
   "metadata": {},
   "outputs": [
    {
     "name": "stdout",
     "output_type": "stream",
     "text": [
      "--- First 5 Rows ---\n",
      "   Unnamed: 0  Clothing ID  Age                    Title  \\\n",
      "0           0          767   33                      NaN   \n",
      "1           1         1080   34                      NaN   \n",
      "2           2         1077   60  Some major design flaws   \n",
      "3           3         1049   50         My favorite buy!   \n",
      "4           4          847   47         Flattering shirt   \n",
      "\n",
      "                                         Review Text  Rating  Recommended IND  \\\n",
      "0  Absolutely wonderful - silky and sexy and comf...       4                1   \n",
      "1  Love this dress!  it's sooo pretty.  i happene...       5                1   \n",
      "2  I had such high hopes for this dress and reall...       3                0   \n",
      "3  I love, love, love this jumpsuit. it's fun, fl...       5                1   \n",
      "4  This shirt is very flattering to all due to th...       5                1   \n",
      "\n",
      "   Positive Feedback Count   Division Name Department Name Class Name  \n",
      "0                        0       Initmates        Intimate  Intimates  \n",
      "1                        4         General         Dresses    Dresses  \n",
      "2                        0         General         Dresses    Dresses  \n",
      "3                        0  General Petite         Bottoms      Pants  \n",
      "4                        6         General            Tops    Blouses  \n",
      "\n",
      "--- DataFrame Info ---\n",
      "<class 'pandas.core.frame.DataFrame'>\n",
      "RangeIndex: 23486 entries, 0 to 23485\n",
      "Data columns (total 11 columns):\n",
      " #   Column                   Non-Null Count  Dtype \n",
      "---  ------                   --------------  ----- \n",
      " 0   Unnamed: 0               23486 non-null  int64 \n",
      " 1   Clothing ID              23486 non-null  int64 \n",
      " 2   Age                      23486 non-null  int64 \n",
      " 3   Title                    19676 non-null  object\n",
      " 4   Review Text              22641 non-null  object\n",
      " 5   Rating                   23486 non-null  int64 \n",
      " 6   Recommended IND          23486 non-null  int64 \n",
      " 7   Positive Feedback Count  23486 non-null  int64 \n",
      " 8   Division Name            23472 non-null  object\n",
      " 9   Department Name          23472 non-null  object\n",
      " 10  Class Name               23472 non-null  object\n",
      "dtypes: int64(6), object(5)\n",
      "memory usage: 2.0+ MB\n",
      "\n",
      "--- Missing Values Count ---\n",
      "Unnamed: 0                    0\n",
      "Clothing ID                   0\n",
      "Age                           0\n",
      "Title                      3810\n",
      "Review Text                 845\n",
      "Rating                        0\n",
      "Recommended IND               0\n",
      "Positive Feedback Count       0\n",
      "Division Name                14\n",
      "Department Name              14\n",
      "Class Name                   14\n",
      "dtype: int64\n"
     ]
    }
   ],
   "source": [
    "import pandas as pd\n",
    "import matplotlib.pyplot as plt\n",
    "import seaborn as sns\n",
    "\n",
    "file_path = \"../data/Womens Clothing E-Commerce Reviews.csv\"\n",
    "\n",
    "df = pd.read_csv(file_path)\n",
    "\n",
    "print(\"--- First 5 Rows ---\")\n",
    "print(df.head())\n",
    "\n",
    "print(\"\\n--- DataFrame Info ---\")\n",
    "df.info()\n",
    "\n",
    "print(\"\\n--- Missing Values Count ---\")\n",
    "print(df.isnull().sum())"
   ]
  },
  {
   "cell_type": "code",
   "execution_count": 2,
   "id": "5919b3f4-54f0-454e-a56d-0b633cf3ef23",
   "metadata": {},
   "outputs": [
    {
     "name": "stdout",
     "output_type": "stream",
     "text": [
      "Original Shape of the dataframe: (23486, 11)\n",
      "Shape of the dataframe after dropping missing reviews: (22641, 11)\n",
      "\n",
      "--- Missing Values Count After Dropping ---\n",
      "Unnamed: 0                    0\n",
      "Clothing ID                   0\n",
      "Age                           0\n",
      "Title                      2966\n",
      "Review Text                   0\n",
      "Rating                        0\n",
      "Recommended IND               0\n",
      "Positive Feedback Count       0\n",
      "Division Name                13\n",
      "Department Name              13\n",
      "Class Name                   13\n",
      "dtype: int64\n"
     ]
    }
   ],
   "source": [
    "print(f\"Original Shape of the dataframe: {df.shape}\")\n",
    "\n",
    "df.dropna(subset=['Review Text'], inplace =  True)\n",
    "\n",
    "print(f\"Shape of the dataframe after dropping missing reviews: {df.shape}\")\n",
    "\n",
    "print(\"\\n--- Missing Values Count After Dropping ---\")\n",
    "print(df.isnull().sum())"
   ]
  },
  {
   "cell_type": "code",
   "execution_count": 3,
   "id": "f793474d-ca24-4d84-bd53-46c0ea164d7f",
   "metadata": {},
   "outputs": [
    {
     "name": "stdout",
     "output_type": "stream",
     "text": [
      "--- Sentiment Distribution ---\n",
      "sentiment\n",
      "1    17448\n",
      "0     2370\n",
      "Name: count, dtype: int64\n"
     ]
    },
    {
     "data": {
      "image/png": "[encoded data removed]",
      "text/plain": [
       "<Figure size 800x600 with 1 Axes>"
      ]
     },
     "metadata": {},
     "output_type": "display_data"
    }
   ],
   "source": [
    "df = df[df['Rating'] != 3]\n",
    "df['sentiment'] = df['Rating'].apply(lambda rating: 1 if rating > 3 else 0)\n",
    "\n",
    "print(\"--- Sentiment Distribution ---\")\n",
    "print(df['sentiment'].value_counts())\n",
    "\n",
    "plt.figure(figsize=(8,6))\n",
    "sns.countplot(x='sentiment', data = df)\n",
    "plt.title('Distribution of Sentiments (1: Positive, 0: Negative)')\n",
    "plt.show()"
   ]
  },
  {
   "cell_type": "code",
   "execution_count": 4,
   "id": "5e5728b9-bd13-44e7-a108-c054717816b6",
   "metadata": {},
   "outputs": [
    {
     "name": "stderr",
     "output_type": "stream",
     "text": [
      "[nltk_data] Downloading package stopwords to\n",
      "[nltk_data]     C:\\Users\\Sauma\\AppData\\Roaming\\nltk_data...\n",
      "[nltk_data]   Package stopwords is already up-to-date!\n",
      "[nltk_data] Downloading package punkt to\n",
      "[nltk_data]     C:\\Users\\Sauma\\AppData\\Roaming\\nltk_data...\n",
      "[nltk_data]   Package punkt is already up-to-date!\n",
      "[nltk_data] Downloading package wordnet to\n",
      "[nltk_data]     C:\\Users\\Sauma\\AppData\\Roaming\\nltk_data...\n",
      "[nltk_data]   Package wordnet is already up-to-date!\n",
      "[nltk_data] Downloading package punkt_tab to\n",
      "[nltk_data]     C:\\Users\\Sauma\\AppData\\Roaming\\nltk_data...\n",
      "[nltk_data]   Unzipping tokenizers\\punkt_tab.zip.\n"
     ]
    },
    {
     "name": "stdout",
     "output_type": "stream",
     "text": [
      "\n",
      "--- Text Preprocessing Example ---\n",
      "Original Text:  Absolutely wonderful - silky and sexy and comfortable\n",
      "Cleaned Text:  absolutely wonderful silky sexy comfortable\n",
      "\n",
      "--- DataFrame Head with Cleaned Text ---\n",
      "                                         Review Text  \\\n",
      "0  Absolutely wonderful - silky and sexy and comf...   \n",
      "1  Love this dress!  it's sooo pretty.  i happene...   \n",
      "3  I love, love, love this jumpsuit. it's fun, fl...   \n",
      "4  This shirt is very flattering to all due to th...   \n",
      "5  I love tracy reese dresses, but this one is no...   \n",
      "\n",
      "                                        cleaned_text  sentiment  \n",
      "0        absolutely wonderful silky sexy comfortable          1  \n",
      "1  love dress sooo pretty happened find store im ...          1  \n",
      "3  love love love jumpsuit fun flirty fabulous ev...          1  \n",
      "4  shirt flattering due adjustable front tie perf...          1  \n",
      "5  love tracy reese dress one petite foot tall us...          0  \n"
     ]
    }
   ],
   "source": [
    "import nltk\n",
    "import re\n",
    "\n",
    "nltk.download('stopwords')\n",
    "nltk.download('punkt')\n",
    "nltk.download('wordnet')\n",
    "nltk.download('punkt_tab')\n",
    "\n",
    "from nltk.corpus import stopwords\n",
    "from nltk.tokenize import word_tokenize\n",
    "from nltk.stem import WordNetLemmatizer\n",
    "\n",
    "lemmatizer = WordNetLemmatizer()\n",
    "stop_words = set(stopwords.words('english'))\n",
    "\n",
    "def preprocess_text(text):\n",
    "    text = text.lower()\n",
    "    text = re.sub(r'[^a-zA-Z\\s]','',text)\n",
    "    tokens = word_tokenize(text)\n",
    "    cleaned_tokens = []\n",
    "    for token in tokens:\n",
    "        if token not in stop_words:\n",
    "            cleaned_tokens.append(lemmatizer.lemmatize(token))\n",
    "    return \" \".join(cleaned_tokens)\n",
    "\n",
    "df['cleaned_text'] = df['Review Text'].apply(preprocess_text)\n",
    "\n",
    "print(\"\\n--- Text Preprocessing Example ---\")\n",
    "print(\"Original Text: \", df['Review Text'].iloc[0])\n",
    "print(\"Cleaned Text: \", df['cleaned_text'].iloc[0])\n",
    "\n",
    "print(\"\\n--- DataFrame Head with Cleaned Text ---\")\n",
    "print(df[['Review Text','cleaned_text','sentiment']].head())"
   ]
  },
  {
   "cell_type": "code",
   "execution_count": 5,
   "id": "62331140-3a9e-4107-9eb4-0a418fd76efa",
   "metadata": {},
   "outputs": [
    {
     "name": "stdout",
     "output_type": "stream",
     "text": [
      "Size of training set: 15854\n",
      "Size of testing set: 3964\n"
     ]
    }
   ],
   "source": [
    "from sklearn.model_selection import train_test_split\n",
    "\n",
    "X = df['cleaned_text']\n",
    "y = df['sentiment']\n",
    "\n",
    "X_train, X_test, y_train, y_test = train_test_split(X,y,test_size=0.2,random_state=42)\n",
    "\n",
    "print(f\"Size of training set: {len(X_train)}\")\n",
    "print(f\"Size of testing set: {len(X_test)}\")"
   ]
  },
  {
   "cell_type": "code",
   "execution_count": 6,
   "id": "ef945256-b566-4ce5-9f86-918b3e7cc4b1",
   "metadata": {},
   "outputs": [
    {
     "name": "stdout",
     "output_type": "stream",
     "text": [
      "Shape of the training TF-IDF matrix: (15854, 5000)\n",
      "Shape of the testing TF-IDF matrix: (3964, 5000)\n"
     ]
    }
   ],
   "source": [
    "from sklearn.feature_extraction.text import TfidfVectorizer\n",
    "\n",
    "vectorizer = TfidfVectorizer(max_features=5000)\n",
    "\n",
    "X_train_tfidf = vectorizer.fit_transform(X_train)\n",
    "\n",
    "X_test_tfidf = vectorizer.transform(X_test)\n",
    "\n",
    "print(\"Shape of the training TF-IDF matrix:\", X_train_tfidf.shape)\n",
    "print(\"Shape of the testing TF-IDF matrix:\", X_test_tfidf.shape)"
   ]
  },
  {
   "cell_type": "code",
   "execution_count": 7,
   "id": "da92ee44-f93c-461b-a7d8-00bceb76135d",
   "metadata": {},
   "outputs": [
    {
     "name": "stdout",
     "output_type": "stream",
     "text": [
      "Training the model...\n",
      "Model training complete!\n"
     ]
    }
   ],
   "source": [
    "from sklearn.linear_model import LogisticRegression\n",
    "\n",
    "model = LogisticRegression()\n",
    "\n",
    "print(\"Training the model...\")\n",
    "model.fit(X_train_tfidf, y_train)\n",
    "print(\"Model training complete!\")"
   ]
  },
  {
   "cell_type": "code",
   "execution_count": 8,
   "id": "4ed7e040-7c9f-449f-92f1-d87f15763644",
   "metadata": {},
   "outputs": [],
   "source": [
    "y_pred = model.predict(X_test_tfidf)"
   ]
  },
  {
   "cell_type": "code",
   "execution_count": 9,
   "id": "61471124-4654-440b-9a2b-72efd92f7906",
   "metadata": {},
   "outputs": [
    {
     "name": "stdout",
     "output_type": "stream",
     "text": [
      "Accuracy: 0.9251\n",
      "\n",
      "--- Classification Report ---\n",
      "              precision    recall  f1-score   support\n",
      "\n",
      "Negative (0)       0.85      0.46      0.59       478\n",
      "Positive (1)       0.93      0.99      0.96      3486\n",
      "\n",
      "    accuracy                           0.93      3964\n",
      "   macro avg       0.89      0.72      0.78      3964\n",
      "weighted avg       0.92      0.93      0.91      3964\n",
      "\n"
     ]
    }
   ],
   "source": [
    "from sklearn.metrics import accuracy_score, classification_report\n",
    "\n",
    "accuracy = accuracy_score(y_test, y_pred)\n",
    "print(f\"Accuracy: {accuracy:.4f}\")\n",
    "print(\"\\n--- Classification Report ---\")\n",
    "print(classification_report(y_test,y_pred,target_names=['Negative (0)', 'Positive (1)']))"
   ]
  },
  {
   "cell_type": "code",
   "execution_count": 10,
   "id": "828a702d-07a6-4547-95a9-60bd2431b9d4",
   "metadata": {},
   "outputs": [
    {
     "data": {
      "image/png": "[encoded data removed]",
      "text/plain": [
       "<Figure size 800x600 with 2 Axes>"
      ]
     },
     "metadata": {},
     "output_type": "display_data"
    }
   ],
   "source": [
    "from sklearn.metrics import confusion_matrix\n",
    "import seaborn as sns\n",
    "import matplotlib.pyplot as plt\n",
    "\n",
    "cm = confusion_matrix(y_test,y_pred)\n",
    "plt.figure(figsize = (8,6))\n",
    "sns.heatmap(cm, annot= True, fmt='d',cmap='Blues',xticklabels=['Negative (0)', 'Positive (1)'], yticklabels=['Negative (0)','Positive (1)'])\n",
    "plt.xlabel('Predicted Label')\n",
    "plt.ylabel('True Label')\n",
    "plt.title('Confusion Matrix')\n",
    "plt.show()"
   ]
  },
  {
   "cell_type": "code",
   "execution_count": null,
   "id": "06b7657a-e3a0-47cc-94e4-2d0a97a1cf52",
   "metadata": {},
   "outputs": [],
   "source": []
  }
 ],
 "metadata": {
  "kernelspec": {
   "display_name": "Python 3 (ipykernel)",
   "language": "python",
   "name": "python3"
  },
  "language_info": {
   "codemirror_mode": {
    "name": "ipython",
    "version": 3
   },
   "file_extension": ".py",
   "mimetype": "text/x-python",
   "name": "python",
   "nbconvert_exporter": "python",
   "pygments_lexer": "ipython3",
   "version": "3.11.9"
  }
 },
 "nbformat": 4,
 "nbformat_minor": 5
}
