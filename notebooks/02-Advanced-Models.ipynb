{
 "cells": [
  {
   "cell_type": "code",
   "execution_count": 2,
   "id": "281c9317-3c0c-42c7-87fe-11d04855ef61",
   "metadata": {},
   "outputs": [
    {
     "name": "stdout",
     "output_type": "stream",
     "text": [
      "Starting text preprocessing...\n",
      "Text preprocessing complete!\n",
      "\n",
      "DataFrame is ready for advanced modeling:\n",
      "                                        cleaned_text  sentiment\n",
      "0        absolutely wonderful silky sexy comfortable          1\n",
      "1  love dress sooo pretty happened find store im ...          1\n",
      "3  love love love jumpsuit fun flirty fabulous ev...          1\n",
      "4  shirt flattering due adjustable front tie perf...          1\n",
      "5  love tracy reese dress one petite foot tall us...          0\n"
     ]
    }
   ],
   "source": [
    "# ============== PART 1: IMPORTS ==============\n",
    "import pandas as pd\n",
    "import numpy as np\n",
    "import re\n",
    "import nltk\n",
    "\n",
    "# Import necessary NLTK components\n",
    "from nltk.corpus import stopwords\n",
    "from nltk.tokenize import word_tokenize\n",
    "from nltk.stem import WordNetLemmatizer\n",
    "\n",
    "# It's good practice to run the downloads again in a new notebook\n",
    "# NLTK is smart and won't re-download if the data already exists.\n",
    "try:\n",
    "    stopwords.words('english')\n",
    "except LookupError:\n",
    "    nltk.download('stopwords')\n",
    "    nltk.download('punkt')\n",
    "    nltk.download('wordnet')\n",
    "    nltk.download('omw-1.4') # Open Multilingual Wordnet, a dependency for WordNet\n",
    "\n",
    "# ============== PART 2: DATA LOADING ==============\n",
    "# Define the file path\n",
    "file_path = \"../data/Womens Clothing E-Commerce Reviews.csv\"\n",
    "\n",
    "# Load the CSV file into a pandas DataFrame\n",
    "# We drop the first unnamed column which is just an index from the original CSV\n",
    "df = pd.read_csv(file_path, index_col=0)\n",
    "\n",
    "\n",
    "# ============== PART 3: INITIAL DATA CLEANING ==============\n",
    "# Drop rows where 'Review Text' is missing\n",
    "df.dropna(subset=['Review Text'], inplace=True)\n",
    "\n",
    "# Filter out neutral reviews (Rating = 3) to create a binary problem\n",
    "df = df[df['Rating'] != 3].copy() # Use .copy() to avoid SettingWithCopyWarning\n",
    "\n",
    "# Create the 'sentiment' column (1 for Positive, 0 for Negative)\n",
    "df['sentiment'] = df['Rating'].apply(lambda rating: 1 if rating > 3 else 0)\n",
    "\n",
    "\n",
    "# ============== PART 4: TEXT PREPROCESSING FUNCTION ==============\n",
    "# Initialize the lemmatizer and stopwords list\n",
    "lemmatizer = WordNetLemmatizer()\n",
    "stop_words = set(stopwords.words('english'))\n",
    "\n",
    "def preprocess_text(text):\n",
    "    \"\"\"\n",
    "    Cleans and preprocesses a single text string.\n",
    "    \"\"\"\n",
    "    # 1. Lowercasing\n",
    "    text = text.lower()\n",
    "    \n",
    "    # 2. Removing punctuation\n",
    "    text = re.sub(r'[^a-zA-Z\\s]', '', text)\n",
    "    \n",
    "    # 3. Tokenization\n",
    "    tokens = word_tokenize(text)\n",
    "    \n",
    "    # 4. Removing stopwords and Lemmatization\n",
    "    cleaned_tokens = [lemmatizer.lemmatize(token) for token in tokens if token not in stop_words]\n",
    "            \n",
    "    # 5. Join tokens back into a single string\n",
    "    return \" \".join(cleaned_tokens)\n",
    "\n",
    "\n",
    "# ============== PART 5: APPLYING THE PREPROCESSING ==============\n",
    "# Apply the function to the 'Review Text' column. This may take a moment.\n",
    "print(\"Starting text preprocessing...\")\n",
    "df['cleaned_text'] = df['Review Text'].apply(preprocess_text)\n",
    "print(\"Text preprocessing complete!\")\n",
    "\n",
    "\n",
    "# ============== PART 6: VERIFY THE RESULT ==============\n",
    "# Display the first few rows with the key columns to verify everything worked\n",
    "print(\"\\nDataFrame is ready for advanced modeling:\")\n",
    "print(df[['cleaned_text', 'sentiment']].head())"
   ]
  },
  {
   "cell_type": "code",
   "execution_count": 3,
   "id": "e2932eea-2299-4703-86ba-f807c3e8a3c7",
   "metadata": {},
   "outputs": [
    {
     "name": "stdout",
     "output_type": "stream",
     "text": [
      "0    [absolutely, wonderful, silky, sexy, comfortable]\n",
      "1    [love, dress, sooo, pretty, happened, find, st...\n",
      "3    [love, love, love, jumpsuit, fun, flirty, fabu...\n",
      "4    [shirt, flattering, due, adjustable, front, ti...\n",
      "5    [love, tracy, reese, dress, one, petite, foot,...\n",
      "Name: cleaned_text, dtype: object\n"
     ]
    }
   ],
   "source": [
    "tokenized_text = df['cleaned_text'].apply(lambda x: x.split())\n",
    "print(tokenized_text.head())"
   ]
  },
  {
   "cell_type": "code",
   "execution_count": 7,
   "id": "41cbe653-b561-4057-8e94-31800151c6b4",
   "metadata": {},
   "outputs": [
    {
     "name": "stdout",
     "output_type": "stream",
     "text": [
      "Words most similar to 'dress':\n",
      "[('top', 0.5568280220031738), ('absolutely', 0.5246739983558655), ('jumpsuit', 0.5213248133659363), ('skirt', 0.4894891083240509), ('soooooo', 0.4612273871898651), ('blouse', 0.4599113166332245), ('pre', 0.4517476260662079), ('puttogether', 0.44825366139411926), ('elegantly', 0.4435317814350128), ('sassy', 0.4405764043331146)]\n",
      "\n",
      "Words most similar to 'soft':\n",
      "[('lightweight', 0.7620058655738831), ('stretchy', 0.7532396912574768), ('thick', 0.7480956315994263), ('breathable', 0.7245926856994629), ('substantial', 0.7206012010574341), ('gauzy', 0.7146739363670349), ('silky', 0.714089035987854), ('cozy', 0.6968247890472412), ('light', 0.6895396709442139), ('airy', 0.6814002394676208)]\n",
      "\n",
      "Vector for the word 'fabric':\n",
      "[-0.09714934 -1.4307705   0.3158937   0.4966538  -0.39687115  0.36040026\n",
      "  0.6694618   0.5325762   0.17154475 -0.62310237 -0.91199905 -0.6356387\n",
      " -0.8476426  -0.99096817 -0.03332862 -0.71500605 -1.122482   -1.2874366\n",
      "  0.2260227  -1.4269211  -0.19902945  0.6335717   0.25104907  0.808067\n",
      "  0.38236737  0.3715217  -1.3487502   0.4808914  -0.31101185  0.99571764\n",
      "  0.1172975  -0.614069    1.3190422  -0.42786777  0.66321373  1.0468304\n",
      " -0.94286245 -0.5671607   0.19167683  0.19239704  0.11943799 -0.59643006\n",
      " -0.11937065 -1.0286853  -0.8907376  -0.30578625 -0.06075466 -0.16573359\n",
      " -1.0714498   0.6211335   0.55161715 -2.4231896   1.0148635   0.14216201\n",
      "  0.4470523  -0.39633158  0.36827928  0.32913408 -0.19416073  0.35946465\n",
      " -0.94276816  0.1035765   1.041269   -0.22118185 -0.277823   -0.01733575\n",
      "  0.61451894  0.92631483 -1.6908342   0.20369868 -0.3991498   0.9155161\n",
      "  1.0372335  -1.7251233  -0.23124374 -0.42179164 -0.4800506  -1.2916999\n",
      "  0.4766574  -1.0453248  -0.4986266  -0.41906333  0.37358803  0.29282683\n",
      "  0.93158084  0.39251563  0.82827145  0.1536225  -0.50539535  0.36000678\n",
      " -0.15205331 -0.5150477   0.74126345 -1.1933793  -0.7152736  -0.9247404\n",
      "  0.7424325   0.7689166   2.4615006  -0.21258661]\n"
     ]
    }
   ],
   "source": [
    "from gensim.models import Word2Vec\n",
    "\n",
    "embedding_dim = 100\n",
    "w2v_model = Word2Vec(sentences=tokenized_text, vector_size=embedding_dim,window=5,min_count=5,workers=4)\n",
    "\n",
    "print(\"Words most similar to 'dress':\")\n",
    "print(w2v_model.wv.most_similar('dress'))\n",
    "\n",
    "print(\"\\nWords most similar to 'soft':\")\n",
    "print(w2v_model.wv.most_similar('soft'))\n",
    "\n",
    "print(\"\\nVector for the word 'fabric':\")\n",
    "print(w2v_model.wv['fabric'])"
   ]
  },
  {
   "cell_type": "code",
   "execution_count": 9,
   "id": "3b650e1f-0798-4cab-9d61-0572ed3436f1",
   "metadata": {},
   "outputs": [
    {
     "name": "stdout",
     "output_type": "stream",
     "text": [
      "Shape of training vectors: (15854, 100)\n",
      "Shape of testing vectors: (3964, 100)\n"
     ]
    }
   ],
   "source": [
    "import numpy as np\n",
    "\n",
    "def vectorize_document(doc,model):\n",
    "\n",
    "    word_vectors = [model.wv[word] for word in doc if word in model.wv.key_to_index]\n",
    "\n",
    "    if not word_vectors:\n",
    "        return np.zeros(model.vector_size)\n",
    "    return np.mean(word_vectors, axis=0)\n",
    "from sklearn.model_selection import train_test_split\n",
    "\n",
    "X = tokenized_text\n",
    "y = df['sentiment']\n",
    "\n",
    "X_train, X_test, y_train, y_test = train_test_split(X,y, test_size=0.2, random_state=42)\n",
    "\n",
    "X_train_vec = np.array([vectorize_document(doc, w2v_model) for doc in X_train])\n",
    "X_test_vec = np.array([vectorize_document(doc,w2v_model) for doc in X_test])\n",
    "\n",
    "print(\"Shape of training vectors:\", X_train_vec.shape)\n",
    "print(\"Shape of testing vectors:\", X_test_vec.shape)"
   ]
  },
  {
   "cell_type": "code",
   "execution_count": 12,
   "id": "464dc26b-cb40-41f3-8568-b629c6854e94",
   "metadata": {},
   "outputs": [
    {
     "name": "stdout",
     "output_type": "stream",
     "text": [
      "Training model with Word2Vec features...\n",
      "Training complete!\n",
      "\n",
      "--- Classification Report (Word2Vec) ---\n",
      "              precision    recall  f1-score   support\n",
      "\n",
      "           0       0.75      0.42      0.54       478\n",
      "           1       0.92      0.98      0.95      3486\n",
      "\n",
      "    accuracy                           0.91      3964\n",
      "   macro avg       0.84      0.70      0.74      3964\n",
      "weighted avg       0.90      0.91      0.90      3964\n",
      "\n"
     ]
    },
    {
     "data": {
      "image/png": "[encoded data removed]",
      "text/plain": [
       "<Figure size 640x480 with 2 Axes>"
      ]
     },
     "metadata": {},
     "output_type": "display_data"
    }
   ],
   "source": [
    "from sklearn.linear_model import LogisticRegression\n",
    "from sklearn.metrics import classification_report, confusion_matrix\n",
    "import seaborn as sns\n",
    "import matplotlib.pyplot as plt\n",
    "\n",
    "lr_model_w2v = LogisticRegression()\n",
    "print(\"Training model with Word2Vec features...\")\n",
    "lr_model_w2v.fit(X_train_vec, y_train)\n",
    "print(\"Training complete!\")\n",
    "\n",
    "y_pred_w2v = lr_model_w2v.predict(X_test_vec)\n",
    "\n",
    "print(\"\\n--- Classification Report (Word2Vec) ---\")\n",
    "print(classification_report(y_test,y_pred_w2v))\n",
    "\n",
    "cm = confusion_matrix(y_test,y_pred_w2v)\n",
    "sns.heatmap(cm, annot=True, fmt='d', cmap='Blues')\n",
    "plt.xlabel('Predicted')\n",
    "plt.ylabel('True')\n",
    "plt.title('Confusion Matrix (Word2Vec)')\n",
    "plt.show()"
   ]
  },
  {
   "cell_type": "code",
   "execution_count": 13,
   "id": "b8628d39-6696-43a4-ac12-c0f7ce7e53ce",
   "metadata": {},
   "outputs": [
    {
     "name": "stdout",
     "output_type": "stream",
     "text": [
      "Shape of padded training data: (15854, 150)\n",
      "Shape of padded testing data: (3964, 150)\n",
      "\n",
      "Example of a padded sequence:\n",
      "[108 282  17  30 135   5   0   0   0   0   0   0   0   0   0   0   0   0\n",
      "   0   0   0   0   0   0   0   0   0   0   0   0   0   0   0   0   0   0\n",
      "   0   0   0   0   0   0   0   0   0   0   0   0   0   0   0   0   0   0\n",
      "   0   0   0   0   0   0   0   0   0   0   0   0   0   0   0   0   0   0\n",
      "   0   0   0   0   0   0   0   0   0   0   0   0   0   0   0   0   0   0\n",
      "   0   0   0   0   0   0   0   0   0   0   0   0   0   0   0   0   0   0\n",
      "   0   0   0   0   0   0   0   0   0   0   0   0   0   0   0   0   0   0\n",
      "   0   0   0   0   0   0   0   0   0   0   0   0   0   0   0   0   0   0\n",
      "   0   0   0   0   0   0]\n"
     ]
    }
   ],
   "source": [
    "from tensorflow.keras.preprocessing.text import Tokenizer\n",
    "from tensorflow.keras.preprocessing.sequence import pad_sequences\n",
    "\n",
    "VOCAB_SIZE = 10000\n",
    "MAX_LEN = 150\n",
    "\n",
    "X = df['cleaned_text']\n",
    "y = df['sentiment']\n",
    "\n",
    "X_train, X_test, y_train, y_test = train_test_split(X,y, test_size = 0.2, random_state = 42)\n",
    "\n",
    "tokenizer = Tokenizer(num_words=VOCAB_SIZE)\n",
    "tokenizer.fit_on_texts(X_train)\n",
    "\n",
    "X_train_seq = tokenizer.texts_to_sequences(X_train)\n",
    "X_test_seq = tokenizer.texts_to_sequences(X_test)\n",
    "\n",
    "X_train_pad = pad_sequences(X_train_seq, maxlen=MAX_LEN,padding='post', truncating='post')\n",
    "X_test_pad = pad_sequences(X_test_seq, maxlen=MAX_LEN,padding='post',truncating='post')\n",
    "\n",
    "print(\"Shape of padded training data:\", X_train_pad.shape)\n",
    "print(\"Shape of padded testing data:\", X_test_pad.shape)\n",
    "print(\"\\nExample of a padded sequence:\")\n",
    "print(X_train_pad[0])"
   ]
  },
  {
   "cell_type": "code",
   "execution_count": 14,
   "id": "53447201-432d-42d4-90e6-b644db425b4f",
   "metadata": {},
   "outputs": [
    {
     "name": "stderr",
     "output_type": "stream",
     "text": [
      "D:\\complaint_analysis\\venv-py311\\Lib\\site-packages\\keras\\src\\layers\\core\\embedding.py:97: UserWarning: Argument `input_length` is deprecated. Just remove it.\n",
      "  warnings.warn(\n"
     ]
    },
    {
     "data": {
      "text/html": [
       "<pre style=\"white-space:pre;overflow-x:auto;line-height:normal;font-family:Menlo,'DejaVu Sans Mono',consolas,'Courier New',monospace\"><span style=\"font-weight: bold\">Model: \"sequential\"</span>\n",
       "</pre>\n"
      ],
      "text/plain": [
       "\u001b[1mModel: \"sequential\"\u001b[0m\n"
      ]
     },
     "metadata": {},
     "output_type": "display_data"
    },
    {
     "data": {
      "text/html": [
       "<pre style=\"white-space:pre;overflow-x:auto;line-height:normal;font-family:Menlo,'DejaVu Sans Mono',consolas,'Courier New',monospace\">┏━━━━━━━━━━━━━━━━━━━━━━━━━━━━━━━┳━━━━━━━━━━━━━━━━━━━━━━━┳━━━━━━━━━━━━━━┓\n",
       "┃<span style=\"font-weight: bold\"> Layer (type)                  </span>┃<span style=\"font-weight: bold\"> Output Shape          </span>┃<span style=\"font-weight: bold\">      Param # </span>┃\n",
       "┡━━━━━━━━━━━━━━━━━━━━━━━━━━━━━━━╇━━━━━━━━━━━━━━━━━━━━━━━╇━━━━━━━━━━━━━━┩\n",
       "│ embedding (<span style=\"color: #0087ff; text-decoration-color: #0087ff\">Embedding</span>)         │ ?                     │  <span style=\"color: #00af00; text-decoration-color: #00af00\">0</span> (unbuilt) │\n",
       "├───────────────────────────────┼───────────────────────┼──────────────┤\n",
       "│ bidirectional (<span style=\"color: #0087ff; text-decoration-color: #0087ff\">Bidirectional</span>) │ ?                     │  <span style=\"color: #00af00; text-decoration-color: #00af00\">0</span> (unbuilt) │\n",
       "├───────────────────────────────┼───────────────────────┼──────────────┤\n",
       "│ dense (<span style=\"color: #0087ff; text-decoration-color: #0087ff\">Dense</span>)                 │ ?                     │  <span style=\"color: #00af00; text-decoration-color: #00af00\">0</span> (unbuilt) │\n",
       "└───────────────────────────────┴───────────────────────┴──────────────┘\n",
       "</pre>\n"
      ],
      "text/plain": [
       "┏━━━━━━━━━━━━━━━━━━━━━━━━━━━━━━━┳━━━━━━━━━━━━━━━━━━━━━━━┳━━━━━━━━━━━━━━┓\n",
       "┃\u001b[1m \u001b[0m\u001b[1mLayer (type)                 \u001b[0m\u001b[1m \u001b[0m┃\u001b[1m \u001b[0m\u001b[1mOutput Shape         \u001b[0m\u001b[1m \u001b[0m┃\u001b[1m \u001b[0m\u001b[1m     Param #\u001b[0m\u001b[1m \u001b[0m┃\n",
       "┡━━━━━━━━━━━━━━━━━━━━━━━━━━━━━━━╇━━━━━━━━━━━━━━━━━━━━━━━╇━━━━━━━━━━━━━━┩\n",
       "│ embedding (\u001b[38;5;33mEmbedding\u001b[0m)         │ ?                     │  \u001b[38;5;34m0\u001b[0m (unbuilt) │\n",
       "├───────────────────────────────┼───────────────────────┼──────────────┤\n",
       "│ bidirectional (\u001b[38;5;33mBidirectional\u001b[0m) │ ?                     │  \u001b[38;5;34m0\u001b[0m (unbuilt) │\n",
       "├───────────────────────────────┼───────────────────────┼──────────────┤\n",
       "│ dense (\u001b[38;5;33mDense\u001b[0m)                 │ ?                     │  \u001b[38;5;34m0\u001b[0m (unbuilt) │\n",
       "└───────────────────────────────┴───────────────────────┴──────────────┘\n"
      ]
     },
     "metadata": {},
     "output_type": "display_data"
    },
    {
     "data": {
      "text/html": [
       "<pre style=\"white-space:pre;overflow-x:auto;line-height:normal;font-family:Menlo,'DejaVu Sans Mono',consolas,'Courier New',monospace\"><span style=\"font-weight: bold\"> Total params: </span><span style=\"color: #00af00; text-decoration-color: #00af00\">0</span> (0.00 B)\n",
       "</pre>\n"
      ],
      "text/plain": [
       "\u001b[1m Total params: \u001b[0m\u001b[38;5;34m0\u001b[0m (0.00 B)\n"
      ]
     },
     "metadata": {},
     "output_type": "display_data"
    },
    {
     "data": {
      "text/html": [
       "<pre style=\"white-space:pre;overflow-x:auto;line-height:normal;font-family:Menlo,'DejaVu Sans Mono',consolas,'Courier New',monospace\"><span style=\"font-weight: bold\"> Trainable params: </span><span style=\"color: #00af00; text-decoration-color: #00af00\">0</span> (0.00 B)\n",
       "</pre>\n"
      ],
      "text/plain": [
       "\u001b[1m Trainable params: \u001b[0m\u001b[38;5;34m0\u001b[0m (0.00 B)\n"
      ]
     },
     "metadata": {},
     "output_type": "display_data"
    },
    {
     "data": {
      "text/html": [
       "<pre style=\"white-space:pre;overflow-x:auto;line-height:normal;font-family:Menlo,'DejaVu Sans Mono',consolas,'Courier New',monospace\"><span style=\"font-weight: bold\"> Non-trainable params: </span><span style=\"color: #00af00; text-decoration-color: #00af00\">0</span> (0.00 B)\n",
       "</pre>\n"
      ],
      "text/plain": [
       "\u001b[1m Non-trainable params: \u001b[0m\u001b[38;5;34m0\u001b[0m (0.00 B)\n"
      ]
     },
     "metadata": {},
     "output_type": "display_data"
    }
   ],
   "source": [
    "from tensorflow.keras.models import Sequential\n",
    "from tensorflow.keras.layers import Embedding, LSTM, Dense, Bidirectional\n",
    "\n",
    "embedding_dim = 128\n",
    "\n",
    "model_lstm = Sequential()\n",
    "model_lstm.add(Embedding(input_dim=VOCAB_SIZE,output_dim=embedding_dim,input_length=MAX_LEN))\n",
    "\n",
    "model_lstm.add(Bidirectional(LSTM(64)))\n",
    "\n",
    "model_lstm.add(Dense(1, activation='sigmoid'))\n",
    "\n",
    "model_lstm.summary()"
   ]
  },
  {
   "cell_type": "code",
   "execution_count": 17,
   "id": "23334874-042d-46fe-8070-86cfbf9d5b26",
   "metadata": {},
   "outputs": [
    {
     "name": "stdout",
     "output_type": "stream",
     "text": [
      "\n",
      "Training the LSTM model...\n",
      "Epoch 1/5\n",
      "\u001b[1m248/248\u001b[0m \u001b[32m━━━━━━━━━━━━━━━━━━━━\u001b[0m\u001b[37m\u001b[0m \u001b[1m48s\u001b[0m 171ms/step - accuracy: 0.9048 - loss: 0.2526 - val_accuracy: 0.9286 - val_loss: 0.1775\n",
      "Epoch 2/5\n",
      "\u001b[1m248/248\u001b[0m \u001b[32m━━━━━━━━━━━━━━━━━━━━\u001b[0m\u001b[37m\u001b[0m \u001b[1m41s\u001b[0m 164ms/step - accuracy: 0.9500 - loss: 0.1273 - val_accuracy: 0.9364 - val_loss: 0.1824\n",
      "Epoch 3/5\n",
      "\u001b[1m248/248\u001b[0m \u001b[32m━━━━━━━━━━━━━━━━━━━━\u001b[0m\u001b[37m\u001b[0m \u001b[1m41s\u001b[0m 165ms/step - accuracy: 0.9673 - loss: 0.0920 - val_accuracy: 0.9311 - val_loss: 0.1942\n",
      "Epoch 4/5\n",
      "\u001b[1m248/248\u001b[0m \u001b[32m━━━━━━━━━━━━━━━━━━━━\u001b[0m\u001b[37m\u001b[0m \u001b[1m41s\u001b[0m 166ms/step - accuracy: 0.9754 - loss: 0.0699 - val_accuracy: 0.9241 - val_loss: 0.1973\n",
      "Epoch 5/5\n",
      "\u001b[1m248/248\u001b[0m \u001b[32m━━━━━━━━━━━━━━━━━━━━\u001b[0m\u001b[37m\u001b[0m \u001b[1m42s\u001b[0m 168ms/step - accuracy: 0.9790 - loss: 0.0575 - val_accuracy: 0.9268 - val_loss: 0.2699\n",
      "Training complete!\n"
     ]
    }
   ],
   "source": [
    "model_lstm.compile(loss='binary_crossentropy',optimizer='adam',metrics=['accuracy'])\n",
    "print(\"\\nTraining the LSTM model...\")\n",
    "history = model_lstm.fit(X_train_pad, y_train, epochs=5, batch_size=64,validation_data=(X_test_pad,y_test),verbose=1)\n",
    "print(\"Training complete!\")"
   ]
  },
  {
   "cell_type": "code",
   "execution_count": 19,
   "id": "2eb0f80d-6bdb-41c1-b800-07923437bb49",
   "metadata": {},
   "outputs": [
    {
     "data": {
      "image/png": "[encoded data removed]",
      "text/plain": [
       "<Figure size 1000x700 with 1 Axes>"
      ]
     },
     "metadata": {},
     "output_type": "display_data"
    },
    {
     "name": "stdout",
     "output_type": "stream",
     "text": [
      "\u001b[1m124/124\u001b[0m \u001b[32m━━━━━━━━━━━━━━━━━━━━\u001b[0m\u001b[37m\u001b[0m \u001b[1m4s\u001b[0m 33ms/step\n",
      "\n",
      "--- Classification Report (LSTM Model) ---\n",
      "              precision    recall  f1-score   support\n",
      "\n",
      "Negative (0)       0.78      0.54      0.64       478\n",
      "Postivie (1)       0.94      0.98      0.96      3486\n",
      "\n",
      "    accuracy                           0.93      3964\n",
      "   macro avg       0.86      0.76      0.80      3964\n",
      "weighted avg       0.92      0.93      0.92      3964\n",
      "\n",
      "\n",
      "--- Confusion Matrix (LSTM Model) ---\n"
     ]
    },
    {
     "data": {
      "image/png": "[encoded data removed]",
      "text/plain": [
       "<Figure size 640x480 with 2 Axes>"
      ]
     },
     "metadata": {},
     "output_type": "display_data"
    }
   ],
   "source": [
    "pd.DataFrame(history.history).plot(figsize=(10,7))\n",
    "plt.grid(True)\n",
    "plt.gca().set_ylim(0,1)\n",
    "plt.title('Model Training History')\n",
    "plt.xlabel('Epoch')\n",
    "plt.show()\n",
    "\n",
    "y_pred_lstm_proba = model_lstm.predict(X_test_pad)\n",
    "y_pred_lstm = (y_pred_lstm_proba>0.5).astype(int)\n",
    "\n",
    "print(\"\\n--- Classification Report (LSTM Model) ---\")\n",
    "print(classification_report(y_test,y_pred_lstm, target_names=['Negative (0)','Postivie (1)']))\n",
    "\n",
    "print(\"\\n--- Confusion Matrix (LSTM Model) ---\")\n",
    "cm_lstm = confusion_matrix(y_test,y_pred_lstm)\n",
    "sns.heatmap(cm_lstm,annot=True,fmt='d',cmap='Blues')\n",
    "plt.xlabel('Predicted')\n",
    "plt.ylabel('True')\n",
    "plt.show()"
   ]
  },
  {
   "cell_type": "code",
   "execution_count": 20,
   "id": "98ee15e3-bee5-40a6-8f25-86f108be0d2b",
   "metadata": {},
   "outputs": [
    {
     "name": "stdout",
     "output_type": "stream",
     "text": [
      "Shape of the Document-Term Matrix: (19818, 6939)\n"
     ]
    }
   ],
   "source": [
    "from sklearn.feature_extraction.text import CountVectorizer\n",
    "\n",
    "documents = df['cleaned_text']\n",
    "\n",
    "vectorizer_lda = CountVectorizer(max_df = 0.95, min_df=2, stop_words = 'english')\n",
    "doc_term_matrix = vectorizer_lda.fit_transform(documents)\n",
    "\n",
    "print(\"Shape of the Document-Term Matrix:\", doc_term_matrix.shape)"
   ]
  },
  {
   "cell_type": "code",
   "execution_count": 22,
   "id": "79165de0-11eb-40f0-baed-fbc581edf082",
   "metadata": {},
   "outputs": [
    {
     "name": "stdout",
     "output_type": "stream",
     "text": [
      "Training LDA model to find 7 topics...\n",
      "LDA model training complete!\n"
     ]
    }
   ],
   "source": [
    "from sklearn.decomposition import LatentDirichletAllocation\n",
    "\n",
    "NUM_TOPICS = 7\n",
    "\n",
    "print(f\"Training LDA model to find {NUM_TOPICS} topics...\")\n",
    "lda_model = LatentDirichletAllocation(n_components=NUM_TOPICS, random_state=42)\n",
    "lda_model.fit(doc_term_matrix)\n",
    "print(\"LDA model training complete!\")"
   ]
  },
  {
   "cell_type": "code",
   "execution_count": 23,
   "id": "d253eba4-c736-45eb-8755-75ce092a0523",
   "metadata": {},
   "outputs": [
    {
     "name": "stdout",
     "output_type": "stream",
     "text": [
      "Topic #1:\n",
      "dress love wear fit like look comfortable compliment im perfect\n",
      "Topic #2:\n",
      "color size look ordered like online beautiful fit photo blue\n",
      "Topic #3:\n",
      "size fit small im dress like petite ordered large waist\n",
      "Topic #4:\n",
      "shirt love little cute really like material look fabric wear\n",
      "Topic #5:\n",
      "pant fit love jean color pair like perfect im bought\n",
      "Topic #6:\n",
      "sweater sale store price wear fit tried size like soft\n",
      "Topic #7:\n",
      "great love color wear look perfect fit soft comfortable jean\n",
      "\n",
      "\n"
     ]
    }
   ],
   "source": [
    "def display_topics(model, feature_names, num_top_words):\n",
    "    for topic_idx, topic in enumerate(model.components_):\n",
    "        print(f\"Topic #{topic_idx+1}:\")\n",
    "\n",
    "        top_words = [feature_names[i] for i in topic.argsort() [:-num_top_words - 1:-1]]\n",
    "        print(\" \".join(top_words))\n",
    "    print(\"\\n\")\n",
    "\n",
    "vocab = vectorizer_lda.get_feature_names_out()\n",
    "\n",
    "display_topics(lda_model, vocab, 10)"
   ]
  },
  {
   "cell_type": "code",
   "execution_count": 24,
   "id": "d7834c7f-e074-4a6b-b625-b9f2905fdea9",
   "metadata": {},
   "outputs": [
    {
     "name": "stdout",
     "output_type": "stream",
     "text": [
      "Generating LDA visualization...\n",
      "Done.\n"
     ]
    },
    {
     "name": "stderr",
     "output_type": "stream",
     "text": [
      "D:\\complaint_analysis\\venv-py311\\Lib\\site-packages\\joblib\\externals\\loky\\backend\\context.py:131: UserWarning: Could not find the number of physical cores for the following reason:\n",
      "[WinError 2] The system cannot find the file specified\n",
      "Returning the number of logical cores instead. You can silence this warning by setting LOKY_MAX_CPU_COUNT to the number of cores you want to use.\n",
      "  warnings.warn(\n",
      "  File \"D:\\complaint_analysis\\venv-py311\\Lib\\site-packages\\joblib\\externals\\loky\\backend\\context.py\", line 247, in _count_physical_cores\n",
      "    cpu_count_physical = _count_physical_cores_win32()\n",
      "                         ^^^^^^^^^^^^^^^^^^^^^^^^^^^^^\n",
      "  File \"D:\\complaint_analysis\\venv-py311\\Lib\\site-packages\\joblib\\externals\\loky\\backend\\context.py\", line 299, in _count_physical_cores_win32\n",
      "    cpu_info = subprocess.run(\n",
      "               ^^^^^^^^^^^^^^^\n",
      "  File \"C:\\Program Files\\WindowsApps\\PythonSoftwareFoundation.Python.3.11_3.11.2544.0_x64__qbz5n2kfra8p0\\Lib\\subprocess.py\", line 548, in run\n",
      "    with Popen(*popenargs, **kwargs) as process:\n",
      "         ^^^^^^^^^^^^^^^^^^^^^^^^^^^\n",
      "  File \"C:\\Program Files\\WindowsApps\\PythonSoftwareFoundation.Python.3.11_3.11.2544.0_x64__qbz5n2kfra8p0\\Lib\\subprocess.py\", line 1026, in __init__\n",
      "    self._execute_child(args, executable, preexec_fn, close_fds,\n",
      "  File \"C:\\Program Files\\WindowsApps\\PythonSoftwareFoundation.Python.3.11_3.11.2544.0_x64__qbz5n2kfra8p0\\Lib\\subprocess.py\", line 1538, in _execute_child\n",
      "    hp, ht, pid, tid = _winapi.CreateProcess(executable, args,\n",
      "                       ^^^^^^^^^^^^^^^^^^^^^^^^^^^^^^^^^^^^^^^\n"
     ]
    },
    {
     "data": {
      "text/plain": [
       "PreparedData(topic_coordinates=               x          y  topics  cluster       Freq\n",
       "topic                                                  \n",
       "2     -65.559547   2.927296       1        1  28.693195\n",
       "6       4.973604 -68.379005       2        1  17.972863\n",
       "0     -50.870110 -53.115181       3        1  12.150282\n",
       "1      31.298674  28.475996       4        1  11.124238\n",
       "4      46.070885 -27.599609       5        1  10.699508\n",
       "3     -24.607203  43.760838       6        1  10.615269\n",
       "5      -9.707417 -12.312826       7        1   8.744645, topic_info=         Term         Freq        Total Category  logprob  loglift\n",
       "1759    dress  9670.000000  9670.000000  Default  30.0000  30.0000\n",
       "5932  sweater  2354.000000  2354.000000  Default  29.0000  29.0000\n",
       "4159     pant  1832.000000  1832.000000  Default  28.0000  28.0000\n",
       "5257    shirt  2378.000000  2378.000000  Default  27.0000  27.0000\n",
       "3095     jean  2393.000000  2393.000000  Default  26.0000  26.0000\n",
       "...       ...          ...          ...      ...      ...      ...\n",
       "2065   fabric   263.797463  3963.937635   Topic7  -5.0693  -0.2731\n",
       "3419     look   229.387258  5765.491263   Topic7  -5.2091  -0.7875\n",
       "636    bought   196.021724  2724.294445   Topic7  -5.3663  -0.1950\n",
       "2582    great   205.448469  5533.894347   Topic7  -5.3193  -0.8567\n",
       "3385   little   189.530563  3346.770658   Topic7  -5.4000  -0.4345\n",
       "\n",
       "[590 rows x 6 columns], token_table=      Topic      Freq        Term\n",
       "term                             \n",
       "12        1  0.119541  absolutely\n",
       "12        2  0.165208  absolutely\n",
       "12        3  0.337133  absolutely\n",
       "12        4  0.065815  absolutely\n",
       "12        5  0.224307  absolutely\n",
       "...     ...       ...         ...\n",
       "6900      5  0.136171      yellow\n",
       "6900      6  0.080851      yellow\n",
       "6900      7  0.034043      yellow\n",
       "6904      6  0.820344         yep\n",
       "6926      7  0.868936       yummy\n",
       "\n",
       "[1624 rows x 3 columns], R=30, lambda_step=0.01, plot_opts={'xlab': 'PC1', 'ylab': 'PC2'}, topic_order=[3, 7, 1, 2, 5, 4, 6])"
      ]
     },
     "execution_count": 24,
     "metadata": {},
     "output_type": "execute_result"
    }
   ],
   "source": [
    "import pyLDAvis\n",
    "import pyLDAvis.lda_model\n",
    "\n",
    "print(\"Generating LDA visualization...\")\n",
    "\n",
    "panel = pyLDAvis.lda_model.prepare(lda_model,doc_term_matrix,vectorizer_lda, mds='tsne')\n",
    "print(\"Done.\")\n",
    "\n",
    "panel"
   ]
  },
  {
   "cell_type": "code",
   "execution_count": 25,
   "id": "d7d00a48-8c27-420b-81c6-9c7077094945",
   "metadata": {},
   "outputs": [
    {
     "name": "stderr",
     "output_type": "stream",
     "text": [
      "WARNING:absl:You are saving your model as an HDF5 file via `model.save()` or `keras.saving.save_model(model)`. This file format is considered legacy. We recommend using instead the native Keras format, e.g. `model.save('my_model.keras')` or `keras.saving.save_model(model, 'my_model.keras')`. \n"
     ]
    },
    {
     "name": "stdout",
     "output_type": "stream",
     "text": [
      "Tokenizer and Model have been saved to the 'artifacts' directory!\n"
     ]
    }
   ],
   "source": [
    "import pickle\n",
    "import os\n",
    "\n",
    "ARTIFACTS_DIR = '../artifacts'\n",
    "if not os.path.exists(ARTIFACTS_DIR):\n",
    "    os.makedirs(ARTIFACTS_DIR)\n",
    "\n",
    "with open(os.path.join(ARTIFACTS_DIR, 'tokenizer.pkl'),'wb') as f:\n",
    "    pickle.dump(tokenizer,f)\n",
    "\n",
    "model_lstm.save(os.path.join(ARTIFACTS_DIR,'sentiment_model.h5'))\n",
    "print(\"Tokenizer and Model have been saved to the 'artifacts' directory!\")"
   ]
  },
  {
   "cell_type": "code",
   "execution_count": null,
   "id": "3d91a315-e009-48c3-80f9-09862066728a",
   "metadata": {},
   "outputs": [],
   "source": []
  }
 ],
 "metadata": {
  "kernelspec": {
   "display_name": "Python 3 (ipykernel)",
   "language": "python",
   "name": "python3"
  },
  "language_info": {
   "codemirror_mode": {
    "name": "ipython",
    "version": 3
   },
   "file_extension": ".py",
   "mimetype": "text/x-python",
   "name": "python",
   "nbconvert_exporter": "python",
   "pygments_lexer": "ipython3",
   "version": "3.11.9"
  }
 },
 "nbformat": 4,
 "nbformat_minor": 5
}
